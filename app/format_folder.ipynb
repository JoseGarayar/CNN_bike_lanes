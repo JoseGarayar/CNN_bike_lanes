{
 "cells": [
  {
   "cell_type": "code",
   "execution_count": 26,
   "metadata": {},
   "outputs": [],
   "source": [
    "import os\n",
    "import shutil"
   ]
  },
  {
   "cell_type": "code",
   "execution_count": 27,
   "metadata": {},
   "outputs": [],
   "source": [
    "PRM_INPUT_ROOT_PATH = 'datasets_raw'\n",
    "PRM_OUTPUT_ROOT_PATH = 'datasets'\n",
    "PRM_OUTPUT_BASE_PATH = 'labels/val'\n",
    "PRM_OUTPUT_MAIN_PATH = f'{PRM_OUTPUT_ROOT_PATH}/{PRM_OUTPUT_BASE_PATH}'\n",
    "PRM_WORDS_TO_IGNORE = ['Zone.Identifier']"
   ]
  },
  {
   "cell_type": "code",
   "execution_count": 7,
   "metadata": {},
   "outputs": [],
   "source": [
    "def filter_words(list_of_words):\n",
    "  for filter_word in PRM_WORDS_TO_IGNORE:\n",
    "    list_of_words = [word for word in list_of_words if filter_word.upper() not in word.upper()]\n",
    "  return list_of_words"
   ]
  },
  {
   "cell_type": "code",
   "execution_count": 30,
   "metadata": {},
   "outputs": [],
   "source": [
    "# get init file names\n",
    "test_files = filter_words(os.listdir(PRM_INPUT_ROOT_PATH))\n",
    "test_txt_files = {test_file: [f'{PRM_INPUT_ROOT_PATH}/{test_file}/labels/train/{word}' for word in \n",
    "                              filter_words(os.listdir(f'{PRM_INPUT_ROOT_PATH}/{test_file}/labels/train'))]\n",
    "                  for test_file in test_files}"
   ]
  },
  {
   "cell_type": "code",
   "execution_count": 32,
   "metadata": {},
   "outputs": [],
   "source": [
    "for folder, sources in test_txt_files.items():\n",
    "  for source in sources:\n",
    "    if os.path.exists(source):\n",
    "      file_name = source.split('/')[-1]\n",
    "      shutil.move(source, f'{PRM_OUTPUT_MAIN_PATH}/{file_name}')"
   ]
  }
 ],
 "metadata": {
  "kernelspec": {
   "display_name": "Python 3 (ipykernel)",
   "language": "python",
   "name": "python3"
  },
  "language_info": {
   "codemirror_mode": {
    "name": "ipython",
    "version": 3
   },
   "file_extension": ".py",
   "mimetype": "text/x-python",
   "name": "python",
   "nbconvert_exporter": "python",
   "pygments_lexer": "ipython3",
   "version": "3.11.9"
  }
 },
 "nbformat": 4,
 "nbformat_minor": 2
}
