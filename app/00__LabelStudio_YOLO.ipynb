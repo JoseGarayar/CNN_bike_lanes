{
 "cells": [
  {
   "cell_type": "markdown",
   "metadata": {},
   "source": [
    "# Notebook Configuration"
   ]
  },
  {
   "cell_type": "code",
   "execution_count": 24,
   "metadata": {},
   "outputs": [],
   "source": [
    "import os\n",
    "import shutil"
   ]
  },
  {
   "cell_type": "markdown",
   "metadata": {},
   "source": [
    "Declare paths and constants"
   ]
  },
  {
   "cell_type": "code",
   "execution_count": 43,
   "metadata": {},
   "outputs": [],
   "source": [
    "# dataset paths\n",
    "PRM_PATH_IN_ROOT = 'labelstudio_output'\n",
    "PRM_PATH_IN_IMG = 'datasets_raw/lima_bike_lanes'\n",
    "PRM_PATH_OUT_ROOT = 'datasets/lima_bike_lanes'\n",
    "\n",
    "# declare output image and label path\n",
    "PRM_PATH_OUT_IMG = f'{PRM_PATH_OUT_ROOT}/images/test'\n",
    "PRM_PATH_OUT_LBL = f'{PRM_PATH_OUT_ROOT}/labels/test'\n",
    "\n",
    "# select groups\n",
    "PRM_GROUPS = ['0-499',\n",
    "              '1000-1999',\n",
    "              '2000-2999',\n",
    "              '3000-3999',\n",
    "              '4000-4499']\n",
    "\n",
    "# zfill parameter\n",
    "PRM_ZFILL = 6\n",
    "\n",
    "# words to remove\n",
    "PRM_FILES_TO_REMOVE = ['Zone.Identifier']"
   ]
  },
  {
   "cell_type": "markdown",
   "metadata": {},
   "source": [
    "Clean config"
   ]
  },
  {
   "cell_type": "code",
   "execution_count": 40,
   "metadata": {},
   "outputs": [],
   "source": [
    "# create a function that get messy words\n",
    "def get_nasty_files(list_of_words):\n",
    "  for filter_word in PRM_FILES_TO_REMOVE:\n",
    "    list_of_words = [word for word in list_of_words if filter_word.upper() in word.upper()]\n",
    "  return list_of_words\n",
    "\n",
    "# create a function to delete files\n",
    "def delete_nasty_files(path):\n",
    "  # get files list\n",
    "  list_files = os.listdir(path)\n",
    "\n",
    "  # gest nasty files\n",
    "  nasty_files = get_nasty_files(list_files)\n",
    "\n",
    "  # validate if exists then remove it\n",
    "  if len(nasty_files) > 0:\n",
    "    for file in nasty_files:\n",
    "      file_path = f'{path}/{file}'\n",
    "      # check if exists\n",
    "      if os.path.exists(file_path):\n",
    "          os.remove(file_path)\n",
    "\n",
    "# function to get group name\n",
    "def get_group_name(group_label):\n",
    "      # get upper and lower bounds\n",
    "    lower_bound = group_label.split('-')[0]\n",
    "    upper_bound = group_label.split('-')[1]\n",
    "\n",
    "    # obtain group name\n",
    "    group_name = f\"Grupo_{lower_bound.zfill(PRM_ZFILL)}_{upper_bound.zfill(PRM_ZFILL)}\"\n",
    "\n",
    "    return lower_bound, upper_bound, group_name\n",
    "\n",
    "# function to remove nasty files on each group\n",
    "def clean_nasty_files_from_group(group_label):\n",
    "    # obtain group name\n",
    "    _, _, group_name = get_group_name(group_label)\n",
    "\n",
    "    # get path\n",
    "    group_path = f'{PRM_PATH_IN_ROOT}/{group_name}'\n",
    "\n",
    "    # clean first nasty files\n",
    "    delete_nasty_files(group_path)\n",
    "\n",
    "    # get labels' path\n",
    "    label_path = f'{group_path}/labels'\n",
    "\n",
    "    # clean second nasty files\n",
    "    delete_nasty_files(label_path)\n",
    "\n",
    "# function to copy all txt files from a folder to another one\n",
    "def copy_txt_files(group_label, destination_folder):\n",
    "  # get group name\n",
    "  _, _, group_name = get_group_name(group_label)\n",
    "\n",
    "  # get group path\n",
    "  source_folder = f'{PRM_PATH_IN_ROOT}/{group_name}/labels'\n",
    "\n",
    "  # ensure the source folder exists\n",
    "  if not os.path.exists(source_folder):\n",
    "      raise ValueError(f\"Source folder does not exist: {source_folder}\")\n",
    "\n",
    "  # create the destination folder if it doesn't exist\n",
    "  os.makedirs(destination_folder, exist_ok = True)\n",
    "\n",
    "  # list all files in the source folder\n",
    "  for filename in os.listdir(source_folder):\n",
    "    if filename.endswith('.txt'):\n",
    "        # construct full file path\n",
    "        src_file = os.path.join(source_folder, filename)\n",
    "        dest_file = os.path.join(destination_folder, filename)\n",
    "\n",
    "        # copy the file\n",
    "        shutil.copy2(src_file, dest_file)\n",
    "\n",
    "def copy_img_files(group_label, source_folder, destination_folder):\n",
    "  # Ensure the source folder exists\n",
    "  if not os.path.exists(source_folder):\n",
    "    raise ValueError(f\"Source folder does not exist: {source_folder}\")\n",
    "  \n",
    "  # create the destination folder if it doesn't exist\n",
    "  os.makedirs(destination_folder, exist_ok = True)\n",
    "\n",
    "  # get upper and lower bounds\n",
    "  lower_bound, upper_bound, _ = get_group_name(group_label)\n",
    "\n",
    "  # convert into integers\n",
    "  lower_bound = int(lower_bound)\n",
    "  upper_bound = int(upper_bound)\n",
    "\n",
    "  # only images that are between lower and upper bound\n",
    "  img_files = [img for img in os.listdir(source_folder) if '.png' in img.lower()]\n",
    "  img_files_sel = [img for img in img_files if int(img.split('_')[-1].split('.')[0]) >= lower_bound and \n",
    "                                               int(img.split('_')[-1].split('.')[0]) <= upper_bound]\n",
    "\n",
    "  # copy files\n",
    "  if len(img_files_sel) > 0:\n",
    "    for filename in img_files_sel:\n",
    "      # construct full file path\n",
    "      src_file = os.path.join(source_folder, filename)\n",
    "      dest_file = os.path.join(destination_folder, filename)\n",
    "     \n",
    "      # copy the file\n",
    "      shutil.copy2(src_file, dest_file)\n"
   ]
  },
  {
   "cell_type": "markdown",
   "metadata": {},
   "source": [
    "Delete nasty files, copy labels and images"
   ]
  },
  {
   "cell_type": "code",
   "execution_count": 44,
   "metadata": {},
   "outputs": [],
   "source": [
    "for group in PRM_GROUPS:\n",
    "    clean_nasty_files_from_group(group)\n",
    "    delete_nasty_files(PRM_PATH_IN_IMG)\n",
    "    copy_img_files(group, PRM_PATH_IN_IMG, PRM_PATH_OUT_IMG)\n",
    "    copy_txt_files(group, PRM_PATH_OUT_LBL)"
   ]
  }
 ],
 "metadata": {
  "kernelspec": {
   "display_name": "Python 3 (ipykernel)",
   "language": "python",
   "name": "python3"
  },
  "language_info": {
   "codemirror_mode": {
    "name": "ipython",
    "version": 3
   },
   "file_extension": ".py",
   "mimetype": "text/x-python",
   "name": "python",
   "nbconvert_exporter": "python",
   "pygments_lexer": "ipython3",
   "version": "3.10.12"
  }
 },
 "nbformat": 4,
 "nbformat_minor": 2
}
