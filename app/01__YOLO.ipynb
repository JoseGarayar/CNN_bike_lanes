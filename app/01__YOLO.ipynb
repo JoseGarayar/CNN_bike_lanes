{
 "cells": [
  {
   "cell_type": "markdown",
   "metadata": {},
   "source": [
    "# Notebook Configuration"
   ]
  },
  {
   "cell_type": "code",
   "execution_count": 1,
   "metadata": {},
   "outputs": [],
   "source": [
    "import sys\n",
    "sys.path.append('/home/rodari78/tesis/CNN_bike_lanes/')\n",
    "\n",
    "import cv2\n",
    "import matplotlib.pyplot as plt\n",
    "\n",
    "from libs.YOLO.preprocessing import *\n",
    "from ultralytics import YOLO\n",
    "\n",
    "# change base dir\n",
    "os.chdir('/home/rodari78/tesis/CNN_bike_lanes/app')"
   ]
  },
  {
   "cell_type": "markdown",
   "metadata": {},
   "source": [
    "Declare paths and constants"
   ]
  },
  {
   "cell_type": "code",
   "execution_count": 2,
   "metadata": {},
   "outputs": [],
   "source": [
    "# dataset paths\n",
    "PRM_PATH_ROOT = 'datasets'\n",
    "\n",
    "# main files\n",
    "PRM_COUNTRY_LIST = ['China_MotorBike',\n",
    "                    'China_Drone',\n",
    "                    'Czech',\n",
    "                    'India',\n",
    "                    'Japan',\n",
    "                    'Norway',\n",
    "                    'United_States']\n",
    "\n",
    "# run version\n",
    "PRM_YOLO_VERSION = 3\n",
    "PRM_YOLO_VERSION = str(PRM_YOLO_VERSION).zfill(2)\n",
    "\n",
    "# config file\n",
    "PRM_YML_FILE = 'yaml/config_v002.yaml'\n",
    "\n",
    "# fitting path\n",
    "\n",
    "\n",
    "\n",
    "# declare paths\n",
    "PRM_BASE_PATH = 'runs/detect'\n",
    "\n",
    "PRM_VERSION_NAME = f'version_{PRM_YOLO_VERSION}'\n",
    "\n",
    "PRM_FITTING_PATH = f'{PRM_BASE_PATH}/{PRM_VERSION_NAME}'\n",
    "\n",
    "PRM_WHOLE_FITTING_PATH = f'/home/rodari78/tesis/CNN_bike_lanes/app/{PRM_FITTING_PATH}'\n",
    "os.makedirs(PRM_FITTING_PATH, exist_ok = True)\n",
    "\n",
    "PRM_BEST_MODEL_PATH = f'{PRM_FITTING_PATH}/train/weights/best.pt'\n",
    "\n",
    "PRM_TRAIN_METRICS_NAME = f'version_{PRM_YOLO_VERSION}/train_metrics'\n",
    "PRM_VAL_METRICS_NAME = f'version_{PRM_YOLO_VERSION}/val_metrics'\n",
    "PRM_TEST_METRICS_NAME = f'version_{PRM_YOLO_VERSION}/test_metrics'\n",
    "\n",
    "PRM_TRAIN_METRICS_PATH = f'{PRM_BASE_PATH}/{PRM_TRAIN_METRICS_NAME}'\n",
    "PRM_VAL_METRICS_PATH = f'{PRM_BASE_PATH}/{PRM_VAL_METRICS_NAME}'\n",
    "PRM_TEST_METRICS_PATH = f'{PRM_BASE_PATH}/{PRM_TRAIN_METRICS_NAME}'"
   ]
  },
  {
   "cell_type": "markdown",
   "metadata": {},
   "source": [
    "Clean config"
   ]
  },
  {
   "cell_type": "code",
   "execution_count": 8,
   "metadata": {},
   "outputs": [
    {
     "name": "stdout",
     "output_type": "stream",
     "text": [
      "Country: China_MotorBike\n",
      "Country: China_Drone\n",
      "Country: Czech\n",
      "Country: India\n",
      "Country: Japan\n",
      "Country: Norway\n",
      "Country: United_States\n"
     ]
    }
   ],
   "source": [
    "# create needed paths for each country\n",
    "GLOB_COUNTRY_PATH = {country: (f'{PRM_PATH_ROOT}/init_base{country}/images/train', f'{PRM_PATH_ROOT}/init_base{country}/images/val',\n",
    "                               f'{PRM_PATH_ROOT}/init_base{country}/labels/train', f'{PRM_PATH_ROOT}/init_base{country}/labels/val')\n",
    "                               for country in PRM_COUNTRY_LIST}\n",
    "# clean files\n",
    "clean_files(GLOB_COUNTRY_PATH)"
   ]
  },
  {
   "cell_type": "markdown",
   "metadata": {},
   "source": [
    "Fit pretrained model"
   ]
  },
  {
   "cell_type": "code",
   "execution_count": 3,
   "metadata": {},
   "outputs": [
    {
     "name": "stdout",
     "output_type": "stream",
     "text": [
      "New https://pypi.org/project/ultralytics/8.3.7 available 😃 Update with 'pip install -U ultralytics'\n",
      "Ultralytics 8.3.5 🚀 Python-3.10.12 torch-2.4.1+cu121 CUDA:0 (NVIDIA RTX A4000, 16376MiB)\n",
      "\u001b[34m\u001b[1mengine/trainer: \u001b[0mtask=detect, mode=train, model=pretrained_models/YOLO/v05/yolov5su.pt, data=yaml/config_v002.yaml, epochs=100, time=None, patience=100, batch=16, imgsz=640, save=True, save_period=-1, cache=False, device=None, workers=48, project=None, name=train, exist_ok=False, pretrained=True, optimizer=auto, verbose=True, seed=123, deterministic=True, single_cls=False, rect=False, cos_lr=False, close_mosaic=10, resume=False, amp=True, fraction=1.0, profile=False, freeze=None, multi_scale=False, overlap_mask=True, mask_ratio=4, dropout=0.0, val=True, split=val, save_json=False, save_hybrid=False, conf=None, iou=0.7, max_det=300, half=False, dnn=False, plots=True, source=None, vid_stride=1, stream_buffer=False, visualize=False, augment=False, agnostic_nms=False, classes=None, retina_masks=False, embed=None, show=False, save_frames=False, save_txt=False, save_conf=False, save_crop=False, show_labels=True, show_conf=True, show_boxes=True, line_width=None, format=torchscript, keras=False, optimize=False, int8=False, dynamic=False, simplify=True, opset=None, workspace=4, nms=False, lr0=0.01, lrf=0.01, momentum=0.937, weight_decay=0.0005, warmup_epochs=3.0, warmup_momentum=0.8, warmup_bias_lr=0.1, box=7.5, cls=0.5, dfl=1.5, pose=12.0, kobj=1.0, label_smoothing=0.1, nbs=64, hsv_h=0.015, hsv_s=0.7, hsv_v=0.4, degrees=0.0, translate=0.1, scale=0.5, shear=0.0, perspective=0.0, flipud=0.0, fliplr=0.5, bgr=0.0, mosaic=1.0, mixup=0.0, copy_paste=0.0, copy_paste_mode=flip, auto_augment=randaugment, erasing=0.4, crop_fraction=1.0, cfg=None, tracker=botsort.yaml, save_dir=/home/rodari78/tesis/CNN_bike_lanes/app/runs/detect/version_03/train\n",
      "Overriding model.yaml nc=80 with nc=4\n",
      "\n",
      "                   from  n    params  module                                       arguments                     \n",
      "  0                  -1  1      3520  ultralytics.nn.modules.conv.Conv             [3, 32, 6, 2, 2]              \n",
      "  1                  -1  1     18560  ultralytics.nn.modules.conv.Conv             [32, 64, 3, 2]                \n",
      "  2                  -1  1     18816  ultralytics.nn.modules.block.C3              [64, 64, 1]                   \n",
      "  3                  -1  1     73984  ultralytics.nn.modules.conv.Conv             [64, 128, 3, 2]               \n",
      "  4                  -1  2    115712  ultralytics.nn.modules.block.C3              [128, 128, 2]                 \n",
      "  5                  -1  1    295424  ultralytics.nn.modules.conv.Conv             [128, 256, 3, 2]              \n",
      "  6                  -1  3    625152  ultralytics.nn.modules.block.C3              [256, 256, 3]                 \n",
      "  7                  -1  1   1180672  ultralytics.nn.modules.conv.Conv             [256, 512, 3, 2]              \n",
      "  8                  -1  1   1182720  ultralytics.nn.modules.block.C3              [512, 512, 1]                 \n",
      "  9                  -1  1    656896  ultralytics.nn.modules.block.SPPF            [512, 512, 5]                 \n",
      " 10                  -1  1    131584  ultralytics.nn.modules.conv.Conv             [512, 256, 1, 1]              \n",
      " 11                  -1  1         0  torch.nn.modules.upsampling.Upsample         [None, 2, 'nearest']          \n",
      " 12             [-1, 6]  1         0  ultralytics.nn.modules.conv.Concat           [1]                           \n",
      " 13                  -1  1    361984  ultralytics.nn.modules.block.C3              [512, 256, 1, False]          \n",
      " 14                  -1  1     33024  ultralytics.nn.modules.conv.Conv             [256, 128, 1, 1]              \n",
      " 15                  -1  1         0  torch.nn.modules.upsampling.Upsample         [None, 2, 'nearest']          \n",
      " 16             [-1, 4]  1         0  ultralytics.nn.modules.conv.Concat           [1]                           \n",
      " 17                  -1  1     90880  ultralytics.nn.modules.block.C3              [256, 128, 1, False]          \n",
      " 18                  -1  1    147712  ultralytics.nn.modules.conv.Conv             [128, 128, 3, 2]              \n",
      " 19            [-1, 14]  1         0  ultralytics.nn.modules.conv.Concat           [1]                           \n",
      " 20                  -1  1    296448  ultralytics.nn.modules.block.C3              [256, 256, 1, False]          \n",
      " 21                  -1  1    590336  ultralytics.nn.modules.conv.Conv             [256, 256, 3, 2]              \n",
      " 22            [-1, 10]  1         0  ultralytics.nn.modules.conv.Concat           [1]                           \n",
      " 23                  -1  1   1182720  ultralytics.nn.modules.block.C3              [512, 512, 1, False]          \n",
      " 24        [17, 20, 23]  1    820956  ultralytics.nn.modules.head.Detect           [4, [128, 256, 512]]          \n",
      "YOLOv5s summary: 286 layers, 7,827,100 parameters, 7,827,084 gradients, 19.0 GFLOPs\n",
      "\n",
      "Transferred 385/463 items from pretrained weights\n",
      "\u001b[34m\u001b[1mTensorBoard: \u001b[0mStart with 'tensorboard --logdir /home/rodari78/tesis/CNN_bike_lanes/app/runs/detect/version_03/train', view at http://localhost:6006/\n",
      "Freezing layer 'model.24.dfl.conv.weight'\n",
      "\u001b[34m\u001b[1mAMP: \u001b[0mrunning Automatic Mixed Precision (AMP) checks with YOLO11n...\n",
      "\u001b[34m\u001b[1mAMP: \u001b[0mchecks passed ✅\n"
     ]
    },
    {
     "name": "stderr",
     "output_type": "stream",
     "text": [
      "\u001b[34m\u001b[1mtrain: \u001b[0mScanning /home/rodari78/tesis/CNN_bike_lanes/app/datasets/init_baseChina_Drone/labels/train... 34545 images, 13161 backgrounds, 0 corrupt: 100%|██████████| 34545/34545 [00:32<00:00, 1075.01it/s]\n"
     ]
    },
    {
     "name": "stdout",
     "output_type": "stream",
     "text": [
      "\u001b[34m\u001b[1mtrain: \u001b[0mWARNING ⚠️ Cache directory /home/rodari78/tesis/CNN_bike_lanes/app/datasets/init_baseChina_Drone/labels is not writeable, cache not saved.\n"
     ]
    },
    {
     "name": "stderr",
     "output_type": "stream",
     "text": [
      "\u001b[34m\u001b[1mval: \u001b[0mScanning /home/rodari78/tesis/CNN_bike_lanes/app/datasets/init_baseChina_Drone/labels/val... 3840 images, 1457 backgrounds, 0 corrupt: 100%|██████████| 3840/3840 [00:04<00:00, 777.35it/s] \n"
     ]
    },
    {
     "name": "stdout",
     "output_type": "stream",
     "text": [
      "\u001b[34m\u001b[1mval: \u001b[0mWARNING ⚠️ Cache directory /home/rodari78/tesis/CNN_bike_lanes/app/datasets/init_baseChina_Drone/labels is not writeable, cache not saved.\n",
      "Plotting labels to /home/rodari78/tesis/CNN_bike_lanes/app/runs/detect/version_03/train/labels.jpg... \n",
      "\u001b[34m\u001b[1moptimizer:\u001b[0m 'optimizer=auto' found, ignoring 'lr0=0.01' and 'momentum=0.937' and determining best 'optimizer', 'lr0' and 'momentum' automatically... \n",
      "\u001b[34m\u001b[1moptimizer:\u001b[0m SGD(lr=0.01, momentum=0.9) with parameter groups 75 weight(decay=0.0), 82 weight(decay=0.0005), 81 bias(decay=0.0)\n",
      "\u001b[34m\u001b[1mTensorBoard: \u001b[0mmodel graph visualization added ✅\n",
      "Image sizes 640 train, 640 val\n",
      "Using 24 dataloader workers\n",
      "Logging results to \u001b[1m/home/rodari78/tesis/CNN_bike_lanes/app/runs/detect/version_03/train\u001b[0m\n",
      "Starting training for 100 epochs...\n",
      "\n",
      "      Epoch    GPU_mem   box_loss   cls_loss   dfl_loss  Instances       Size\n"
     ]
    },
    {
     "name": "stderr",
     "output_type": "stream",
     "text": [
      "      1/100      4.35G      2.258       4.79      1.995         40        640:  32%|███▏      | 683/2160 [02:28<05:47,  4.25it/s]"
     ]
    },
    {
     "ename": "",
     "evalue": "",
     "output_type": "error",
     "traceback": [
      "\u001b[1;31mThe Kernel crashed while executing code in the current cell or a previous cell. \n",
      "\u001b[1;31mPlease review the code in the cell(s) to identify a possible cause of the failure. \n",
      "\u001b[1;31mClick <a href='https://aka.ms/vscodeJupyterKernelCrash'>here</a> for more info. \n",
      "\u001b[1;31mView Jupyter <a href='command:jupyter.viewOutput'>log</a> for further details."
     ]
    }
   ],
   "source": [
    "model = YOLO('pretrained_models/YOLO/v05/yolov5su.pt')\n",
    "results = model.train(data = PRM_YML_FILE, \n",
    "                      epochs = 100, \n",
    "                      save = True, \n",
    "                      label_smoothing = 0.1,\n",
    "                      batch = 16,\n",
    "                      workers = 48,\n",
    "                      imgsz = 640,\n",
    "                      seed = 123,\n",
    "                      iou = 0.7,\n",
    "                      name = f'{PRM_VERSION_NAME}/train')"
   ]
  },
  {
   "cell_type": "markdown",
   "metadata": {},
   "source": [
    "Evaluate Model"
   ]
  },
  {
   "cell_type": "code",
   "execution_count": 20,
   "metadata": {},
   "outputs": [
    {
     "name": "stdout",
     "output_type": "stream",
     "text": [
      "Ultralytics 8.3.5 🚀 Python-3.10.12 torch-2.4.1+cu121 CUDA:0 (NVIDIA RTX A4000, 16376MiB)\n",
      "YOLO11s summary (fused): 238 layers, 9,414,348 parameters, 0 gradients, 21.3 GFLOPs\n"
     ]
    },
    {
     "name": "stderr",
     "output_type": "stream",
     "text": [
      "\u001b[34m\u001b[1mval: \u001b[0mScanning /home/rodari78/tesis/CNN_bike_lanes/app/datasets/init_baseChina_Drone/labels/train... 34545 images, 13161 backgrounds, 0 corrupt: 100%|██████████| 34545/34545 [00:31<00:00, 1094.63it/s]\n"
     ]
    },
    {
     "name": "stdout",
     "output_type": "stream",
     "text": [
      "\u001b[34m\u001b[1mval: \u001b[0mWARNING ⚠️ Cache directory /home/rodari78/tesis/CNN_bike_lanes/app/datasets/init_baseChina_Drone/labels is not writeable, cache not saved.\n"
     ]
    },
    {
     "name": "stderr",
     "output_type": "stream",
     "text": [
      "                 Class     Images  Instances      Box(P          R      mAP50  mAP50-95): 100%|██████████| 2160/2160 [03:15<00:00, 11.07it/s]\n"
     ]
    },
    {
     "name": "stdout",
     "output_type": "stream",
     "text": [
      "                   all      34545      49518      0.748      0.644      0.726       0.43\n",
      "                   D00      12181      23434      0.717      0.618      0.683      0.423\n",
      "                   D10       6952      10665      0.707      0.633      0.699      0.389\n",
      "                   D20       7550       9520        0.8      0.773      0.852      0.559\n",
      "                   D40       3314       5899      0.769      0.552       0.67      0.347\n",
      "Speed: 0.1ms preprocess, 2.6ms inference, 0.0ms loss, 0.8ms postprocess per image\n",
      "Results saved to \u001b[1m/home/rodari78/tesis/CNN_bike_lanes/app/runs/detect/version_02/train_metrics\u001b[0m\n"
     ]
    },
    {
     "data": {
      "text/plain": [
       "{'metrics/precision(B)': 0.7484770822098602,\n",
       " 'metrics/recall(B)': 0.6439581808221444,\n",
       " 'metrics/mAP50(B)': 0.7260815586593585,\n",
       " 'metrics/mAP50-95(B)': 0.429752744073075,\n",
       " 'fitness': 0.45938562553170337}"
      ]
     },
     "execution_count": 20,
     "metadata": {},
     "output_type": "execute_result"
    }
   ],
   "source": [
    "model = YOLO(PRM_BEST_MODEL_PATH)\n",
    "if os.path.exists(PRM_TRAIN_METRICS_PATH): shutil.rmtree(PRM_TRAIN_METRICS_PATH)\n",
    "results = model.val(data = 'yaml/train.yaml', \n",
    "                    name = PRM_TRAIN_METRICS_NAME)\n",
    "model.metrics.results_dict"
   ]
  },
  {
   "cell_type": "code",
   "execution_count": 23,
   "metadata": {},
   "outputs": [
    {
     "name": "stdout",
     "output_type": "stream",
     "text": [
      "Ultralytics 8.3.5 🚀 Python-3.10.12 torch-2.4.1+cu121 CUDA:0 (NVIDIA RTX A4000, 16376MiB)\n",
      "YOLO11s summary (fused): 238 layers, 9,414,348 parameters, 0 gradients, 21.3 GFLOPs\n"
     ]
    },
    {
     "name": "stderr",
     "output_type": "stream",
     "text": [
      "\u001b[34m\u001b[1mval: \u001b[0mScanning /home/rodari78/tesis/CNN_bike_lanes/app/datasets/init_baseChina_Drone/labels/val... 3840 images, 1457 backgrounds, 0 corrupt: 100%|██████████| 3840/3840 [00:03<00:00, 1107.90it/s]"
     ]
    },
    {
     "name": "stdout",
     "output_type": "stream",
     "text": [
      "\u001b[34m\u001b[1mval: \u001b[0mWARNING ⚠️ Cache directory /home/rodari78/tesis/CNN_bike_lanes/app/datasets/init_baseChina_Drone/labels is not writeable, cache not saved.\n"
     ]
    },
    {
     "name": "stderr",
     "output_type": "stream",
     "text": [
      "\n",
      "                 Class     Images  Instances      Box(P          R      mAP50  mAP50-95): 100%|██████████| 240/240 [00:22<00:00, 10.69it/s]\n"
     ]
    },
    {
     "name": "stdout",
     "output_type": "stream",
     "text": [
      "                   all       3840       5489      0.656      0.526      0.582       0.31\n",
      "                   D00       1367       2582      0.629      0.531      0.572      0.318\n",
      "                   D10        757       1165      0.634      0.504      0.549      0.293\n",
      "                   D20        862       1097      0.685      0.623      0.684      0.383\n",
      "                   D40        360        645      0.677      0.445      0.523      0.246\n",
      "Speed: 0.1ms preprocess, 2.7ms inference, 0.0ms loss, 0.8ms postprocess per image\n",
      "Results saved to \u001b[1m/home/rodari78/tesis/CNN_bike_lanes/app/runs/detect/version_02/val_metrics\u001b[0m\n"
     ]
    },
    {
     "data": {
      "text/plain": [
       "{'metrics/precision(B)': 0.6562637061578109,\n",
       " 'metrics/recall(B)': 0.5257789433863583,\n",
       " 'metrics/mAP50(B)': 0.5820522444716947,\n",
       " 'metrics/mAP50-95(B)': 0.30990198597420887,\n",
       " 'fitness': 0.3371170118239575}"
      ]
     },
     "execution_count": 23,
     "metadata": {},
     "output_type": "execute_result"
    }
   ],
   "source": [
    "model = YOLO(PRM_BEST_MODEL_PATH)\n",
    "if os.path.exists(PRM_VAL_METRICS_PATH): shutil.rmtree(PRM_VAL_METRICS_PATH)\n",
    "results = model.val(data = 'yaml/val.yaml',\n",
    "                    name = PRM_VAL_METRICS_NAME)\n",
    "model.metrics.results_dict"
   ]
  },
  {
   "cell_type": "code",
   "execution_count": 24,
   "metadata": {},
   "outputs": [
    {
     "name": "stdout",
     "output_type": "stream",
     "text": [
      "Ultralytics 8.3.5 🚀 Python-3.10.12 torch-2.4.1+cu121 CUDA:0 (NVIDIA RTX A4000, 16376MiB)\n",
      "YOLO11s summary (fused): 238 layers, 9,414,348 parameters, 0 gradients, 21.3 GFLOPs\n"
     ]
    },
    {
     "name": "stderr",
     "output_type": "stream",
     "text": [
      "\u001b[34m\u001b[1mval: \u001b[0mScanning /home/rodari78/tesis/CNN_bike_lanes/app/datasets/lima_bike_lanes/labels/test.cache... 4000 images, 1795 backgrounds, 0 corrupt: 100%|██████████| 4000/4000 [00:00<?, ?it/s]\n",
      "                 Class     Images  Instances      Box(P          R      mAP50  mAP50-95): 100%|██████████| 250/250 [00:28<00:00,  8.76it/s]\n"
     ]
    },
    {
     "name": "stdout",
     "output_type": "stream",
     "text": [
      "                   all       4000       5227      0.188      0.134     0.0841     0.0302\n",
      "                   D00        995       1384      0.203       0.16      0.101      0.042\n",
      "                   D10       1292       1928      0.309      0.199      0.142     0.0497\n",
      "                   D20        353        416      0.145      0.154     0.0741     0.0221\n",
      "                   D40        760       1499      0.094      0.024       0.02    0.00695\n",
      "Speed: 0.2ms preprocess, 4.5ms inference, 0.0ms loss, 0.8ms postprocess per image\n",
      "Results saved to \u001b[1m/home/rodari78/tesis/CNN_bike_lanes/app/runs/detect/version_02/test_metrics\u001b[0m\n"
     ]
    },
    {
     "data": {
      "text/plain": [
       "{'metrics/precision(B)': 0.188065584744602,\n",
       " 'metrics/recall(B)': 0.13404892443173738,\n",
       " 'metrics/mAP50(B)': 0.08412790388595644,\n",
       " 'metrics/mAP50-95(B)': 0.03017782276668491,\n",
       " 'fitness': 0.035572830878612065}"
      ]
     },
     "execution_count": 24,
     "metadata": {},
     "output_type": "execute_result"
    }
   ],
   "source": [
    "model = YOLO(PRM_BEST_MODEL_PATH)\n",
    "if os.path.exists(PRM_TEST_METRICS_PATH): shutil.rmtree(PRM_TEST_METRICS_PATH)\n",
    "results = model.val(data = 'yaml/test.yaml',\n",
    "                    imgsz = 640, \n",
    "                    name = PRM_TEST_METRICS_NAME)\n",
    "model.metrics.results_dict"
   ]
  },
  {
   "cell_type": "markdown",
   "metadata": {},
   "source": [
    "Make predictions"
   ]
  },
  {
   "cell_type": "code",
   "execution_count": 1,
   "metadata": {},
   "outputs": [
    {
     "ename": "NameError",
     "evalue": "name 'YOLO' is not defined",
     "output_type": "error",
     "traceback": [
      "\u001b[0;31m---------------------------------------------------------------------------\u001b[0m",
      "\u001b[0;31mNameError\u001b[0m                                 Traceback (most recent call last)",
      "Cell \u001b[0;32mIn[1], line 2\u001b[0m\n\u001b[1;32m      1\u001b[0m \u001b[38;5;66;03m# load weights\u001b[39;00m\n\u001b[0;32m----> 2\u001b[0m model \u001b[38;5;241m=\u001b[39m \u001b[43mYOLO\u001b[49m(\u001b[38;5;124m'\u001b[39m\u001b[38;5;124mruns/detect/train/weights/best.pt\u001b[39m\u001b[38;5;124m'\u001b[39m)\n\u001b[1;32m      4\u001b[0m \u001b[38;5;66;03m# validate on testing set (Lima bikelanes) with yolo\u001b[39;00m\n\u001b[1;32m      5\u001b[0m results \u001b[38;5;241m=\u001b[39m model\u001b[38;5;241m.\u001b[39mpredict(source \u001b[38;5;241m=\u001b[39m \u001b[38;5;124m'\u001b[39m\u001b[38;5;124mdatasets/lima_bike_lanes/images/test\u001b[39m\u001b[38;5;124m'\u001b[39m,\n\u001b[1;32m      6\u001b[0m                         data \u001b[38;5;241m=\u001b[39m \u001b[38;5;124m'\u001b[39m\u001b[38;5;124mtest.yaml\u001b[39m\u001b[38;5;124m'\u001b[39m,\n\u001b[1;32m      7\u001b[0m                         imgsz \u001b[38;5;241m=\u001b[39m \u001b[38;5;241m640\u001b[39m, \n\u001b[1;32m      8\u001b[0m                         save \u001b[38;5;241m=\u001b[39m \u001b[38;5;28;01mTrue\u001b[39;00m, \n\u001b[1;32m      9\u001b[0m                         save_txt \u001b[38;5;241m=\u001b[39m \u001b[38;5;28;01mTrue\u001b[39;00m,\n\u001b[1;32m     10\u001b[0m                         show \u001b[38;5;241m=\u001b[39m \u001b[38;5;28;01mFalse\u001b[39;00m)\n",
      "\u001b[0;31mNameError\u001b[0m: name 'YOLO' is not defined"
     ]
    }
   ],
   "source": [
    "# load weights\n",
    "model = YOLO('runs/detect/train/weights/best.pt')\n",
    "\n",
    "# validate on testing set (Lima bikelanes) with yolo\n",
    "results = model.predict(source = 'datasets/lima_bike_lanes/images/test',\n",
    "                        data = 'test.yaml',\n",
    "                        imgsz = 640, \n",
    "                        save = True, \n",
    "                        save_txt = True,\n",
    "                        show = False)"
   ]
  }
 ],
 "metadata": {
  "kernelspec": {
   "display_name": ".venv",
   "language": "python",
   "name": "python3"
  },
  "language_info": {
   "codemirror_mode": {
    "name": "ipython",
    "version": 3
   },
   "file_extension": ".py",
   "mimetype": "text/x-python",
   "name": "python",
   "nbconvert_exporter": "python",
   "pygments_lexer": "ipython3",
   "version": "3.10.12"
  }
 },
 "nbformat": 4,
 "nbformat_minor": 2
}
